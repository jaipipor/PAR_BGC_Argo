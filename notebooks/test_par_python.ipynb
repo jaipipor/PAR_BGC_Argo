{
 "cells": [
  {
   "cell_type": "code",
   "execution_count": 27,
   "id": "de8046cc-682c-44cf-939e-f72207abf8e1",
   "metadata": {},
   "outputs": [
    {
     "name": "stdout",
     "output_type": "stream",
     "text": [
      "[2.64150639e+02 1.47233679e-01 2.09328181e+00]\n"
     ]
    }
   ],
   "source": [
    "import numpy as np\n",
    "from importlib import reload\n",
    "import par_from_Ed_380_412_443_490_555_v5  # Import the module first\n",
    "reload(par_from_Ed_380_412_443_490_555_v5)  # Force reload\n",
    "from par_from_Ed_380_412_443_490_555_v5 import PAR_from_Ed_380_412_443_490_555_v5\n",
    "\n",
    "# Test data\n",
    "Ed = np.array([[0.10728,0.27631,0.37879,0.50215,0.25799],\n",
    "         [4.7654e-06,3.9603e-05,0.00020864,0.00067752,3.2299e-06],\n",
    "         [6.0923e-05,0.00032247,0.0014818,0.006675,0.0016808]])\n",
    "z = np.array([18.1,155.3,71.1])\n",
    "\n",
    "PAR, PAR_b, ep50, IQR_ep = PAR_from_Ed_380_412_443_490_555_v5(Ed, z)\n",
    "\n",
    "print(PAR)"
   ]
  },
  {
   "cell_type": "code",
   "execution_count": 26,
   "id": "3426e00a-097b-458c-9327-a958061e9bcf",
   "metadata": {},
   "outputs": [
    {
     "name": "stdout",
     "output_type": "stream",
     "text": [
      "[1847.8348424    19.24115742  266.79539862]\n"
     ]
    }
   ],
   "source": [
    "import numpy as np\n",
    "from importlib import reload\n",
    "import par_from_Ed_380_490_555_665_v5  # Import the module first\n",
    "reload(par_from_Ed_380_490_555_665_v5)  # Force reload\n",
    "from par_from_Ed_380_490_555_665_v5 import PAR_from_Ed_380_490_555_665_v5\n",
    "\n",
    "# Test data\n",
    "Ed = np.array([[0.72199,1.6553,1.6139,1.0218],\n",
    "    [0.0021873,0.062225,0.0052865,1.7514e-05],\n",
    "    [0.079935,0.45121,0.32895,0.0012265]])\n",
    "z = np.array([0.7,74.4,16.4])\n",
    "\n",
    "PAR, PAR_b, ep50, IQR_ep = PAR_from_Ed_380_490_555_665_v5(Ed, z)\n",
    "\n",
    "print(PAR)"
   ]
  },
  {
   "cell_type": "code",
   "execution_count": 25,
   "id": "c00a20c5-e0e5-43f9-9fd1-b58f84d5bdb3",
   "metadata": {},
   "outputs": [
    {
     "name": "stdout",
     "output_type": "stream",
     "text": [
      "[3.80900363 9.36829809 0.8741716 ]\n"
     ]
    }
   ],
   "source": [
    "import numpy as np\n",
    "from importlib import reload\n",
    "import par_from_Ed_380_412_490_v5  # Import the module first\n",
    "reload(par_from_Ed_380_412_490_v5)  # Force reload\n",
    "from par_from_Ed_380_412_490_v5 import PAR_from_Ed_380_412_490_v5\n",
    "\n",
    "# Test data\n",
    "Ed = np.array([[0.00026646,0.0017325,0.01242],\n",
    "    [0.0040838,0.017985,0.027024],\n",
    "    [3.928e-05,0.00033364,0.0033945]])\n",
    "z = np.array([43.1,119.7,137.8])\n",
    "\n",
    "PAR, PAR_b, ep50, IQR_ep = PAR_from_Ed_380_412_490_v5(Ed, z)\n",
    "\n",
    "print(PAR)"
   ]
  },
  {
   "cell_type": "code",
   "execution_count": 24,
   "id": "a50aee0a-e90e-4016-87dc-fa386a19d513",
   "metadata": {},
   "outputs": [
    {
     "name": "stdout",
     "output_type": "stream",
     "text": [
      "[7.31593367e-02 6.21694623e+01 2.74837298e+02]\n"
     ]
    }
   ],
   "source": [
    "import numpy as np\n",
    "from importlib import reload\n",
    "import par_from_Ed_380_443_490_555_v5  # Import the module first\n",
    "reload(par_from_Ed_380_443_490_555_v5)  # Force reload\n",
    "from par_from_Ed_380_443_490_555_v5 import PAR_from_Ed_380_443_490_555_v5\n",
    "\n",
    "# Test data\n",
    "Ed = np.array([[3.1477e-07,4.401e-05,0.00031093,2.6219e-05],\n",
    "        [0.0097528,0.061085,0.10562,0.087316],\n",
    "        [0.20572,0.52315,0.54544,0.16185]\n",
    "])\n",
    "z = np.array([84.8,14.2,28.1])\n",
    "\n",
    "PAR, PAR_b, ep50, IQR_ep = PAR_from_Ed_380_443_490_555_v5(Ed, z)\n",
    "\n",
    "print(PAR)"
   ]
  },
  {
   "cell_type": "code",
   "execution_count": 23,
   "id": "ec14f0b1-9f9a-41b0-a3a5-682f3b289850",
   "metadata": {},
   "outputs": [
    {
     "name": "stdout",
     "output_type": "stream",
     "text": [
      "[7.67706608e-02 6.39371514e+01 2.79949340e+02]\n"
     ]
    }
   ],
   "source": [
    "import numpy as np\n",
    "from importlib import reload\n",
    "import par_from_Ed_380_443_490_560_v5  # Import the module first\n",
    "reload(par_from_Ed_380_443_490_560_v5)  # Force reload\n",
    "from par_from_Ed_380_443_490_560_v5 import PAR_from_Ed_380_443_490_560_v5\n",
    "\n",
    "# Test data\n",
    "Ed = np.array([[3.1477e-07,4.401e-05,0.00031093,2.6219e-05],\n",
    "        [0.0097528,0.061085,0.10562,0.087316],\n",
    "        [0.20572,0.52315,0.54544,0.16185]\n",
    "])\n",
    "z = np.array([84.8,14.2,28.1])\n",
    "\n",
    "PAR, PAR_b, ep50, IQR_ep = PAR_from_Ed_380_443_490_560_v5(Ed, z)\n",
    "\n",
    "print(PAR)"
   ]
  }
 ],
 "metadata": {
  "kernelspec": {
   "display_name": "Python 3 (ipykernel)",
   "language": "python",
   "name": "python3"
  },
  "language_info": {
   "codemirror_mode": {
    "name": "ipython",
    "version": 3
   },
   "file_extension": ".py",
   "mimetype": "text/x-python",
   "name": "python",
   "nbconvert_exporter": "python",
   "pygments_lexer": "ipython3",
   "version": "3.12.7"
  }
 },
 "nbformat": 4,
 "nbformat_minor": 5
}
